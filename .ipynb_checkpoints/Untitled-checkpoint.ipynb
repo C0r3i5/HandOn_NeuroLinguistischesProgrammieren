{
 "cells": [
  {
   "cell_type": "markdown",
   "id": "007836eb",
   "metadata": {},
   "source": [
    "### HandsOn NeuroLinguistischesProgrammieren\n",
    "\n",
    "#### what does Wiki says to that topic \n",
    "\n",
    "> Das Neuro-Linguistische Programmieren (kurz NLP) ist eine Sammlung von Methoden und Kommunikationstechniken, welche psychische Abläufe im Menschen beeinflussen sollen. Es greift unter anderem Konzepte aus der klientenzentrierten Therapie, der Gestalttherapie, der Hypnotherapie und den Kognitionswissenschaften sowie des Konstruktivismus auf.<br>\n",
    "> Die Bezeichnung selbst soll ausdrücken, dass Vorgänge im Gehirn („Neuro-“) mit Hilfe der Sprache (engl. linguistic = „sprachlich“) auf Basis systematischer Handlungsanweisungen („Programmieren“) änderbar sind. Es besteht keine Verbindung zur wissenschaftlichen Disziplin der Neurolinguistik.<br>\n",
    "> NLP wurde von Richard Bandler und John Grinder in den 1970er Jahren innerhalb des Human Potential Movements entwickelt. Sie definierten NLP als „das Studium über die Struktur subjektiver Erfahrung“. Ursprüngliches Ziel der NLP-Entwickler war es, die Wirkfaktoren erfolgreicher Therapie herauszufinden und an andere weitervermitteln zu können. Sie vermuteten, dass es sich bei den Wirkfaktoren vor allem um die kommunikativen Fähigkeiten und Verhaltensweisen der Therapeuten selbst handelt und nicht primär um die gewählte fachliche Ausrichtung.[1]\n"
   ]
  },
  {
   "cell_type": "code",
   "execution_count": null,
   "id": "ca90e21a",
   "metadata": {},
   "outputs": [],
   "source": []
  },
  {
   "cell_type": "code",
   "execution_count": null,
   "id": "2b5beb1f",
   "metadata": {},
   "outputs": [],
   "source": []
  },
  {
   "cell_type": "code",
   "execution_count": null,
   "id": "6104f079",
   "metadata": {},
   "outputs": [],
   "source": []
  },
  {
   "cell_type": "code",
   "execution_count": null,
   "id": "f322985b",
   "metadata": {},
   "outputs": [],
   "source": []
  },
  {
   "cell_type": "code",
   "execution_count": null,
   "id": "34892c8d",
   "metadata": {},
   "outputs": [],
   "source": []
  },
  {
   "cell_type": "code",
   "execution_count": null,
   "id": "ad12b587",
   "metadata": {},
   "outputs": [],
   "source": []
  },
  {
   "cell_type": "markdown",
   "id": "9165e6c1",
   "metadata": {},
   "source": [
    "###  source list\n",
    "\n",
    "- [1] [Neuro-Linguistisches Programmieren](https://de.wikipedia.org/wiki/Neuro-Linguistisches_Programmieren)"
   ]
  },
  {
   "cell_type": "code",
   "execution_count": null,
   "id": "36443120",
   "metadata": {},
   "outputs": [],
   "source": []
  }
 ],
 "metadata": {
  "kernelspec": {
   "display_name": "Python 3 (ipykernel)",
   "language": "python",
   "name": "python3"
  },
  "language_info": {
   "codemirror_mode": {
    "name": "ipython",
    "version": 3
   },
   "file_extension": ".py",
   "mimetype": "text/x-python",
   "name": "python",
   "nbconvert_exporter": "python",
   "pygments_lexer": "ipython3",
   "version": "3.7.9"
  }
 },
 "nbformat": 4,
 "nbformat_minor": 5
}
